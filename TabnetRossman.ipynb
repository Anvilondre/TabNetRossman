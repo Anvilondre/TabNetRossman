{
 "cells": [
  {
   "cell_type": "markdown",
   "metadata": {},
   "source": [
    "# Demo notebook of [pytorch-tabnet](https://github.com/dreamquark-ai/tabnet) library on [Rossman Sales Dataset](https://www.kaggle.com/c/rossmann-store-sales/)\n",
    "\n",
    "Useful links:\n",
    "- [Original paper](https://arxiv.org/pdf/1908.07442.pdf)\n",
    "- [Explanatory interview with core pytorch-tabnet contributor](https://youtu.be/ysBaZO8YmX8)\n",
    "\n",
    "Author: Roman Burakov"
   ]
  },
  {
   "cell_type": "code",
   "execution_count": 1,
   "metadata": {},
   "outputs": [],
   "source": [
    "import numpy as np\n",
    "import pandas as pd\n",
    "import matplotlib.pyplot as plt\n",
    "\n",
    "from pytorch_tabnet.tab_model import TabNetRegressor\n",
    "from pytorch_tabnet.pretraining import TabNetPretrainer\n",
    "from pytorch_tabnet.metrics import Metric\n",
    "\n",
    "from sklearn.model_selection import train_test_split\n",
    "from sklearn.preprocessing import LabelEncoder\n",
    "from sklearn.metrics import mean_absolute_error as mae\n",
    "from sklearn.manifold import TSNE\n",
    "\n",
    "from collections import defaultdict\n",
    "\n",
    "import torch\n",
    "\n",
    "import warnings\n",
    "warnings.filterwarnings(\"ignore\")"
   ]
  },
  {
   "cell_type": "code",
   "execution_count": 2,
   "metadata": {},
   "outputs": [
    {
     "data": {
      "text/html": [
       "<div>\n",
       "<style scoped>\n",
       "    .dataframe tbody tr th:only-of-type {\n",
       "        vertical-align: middle;\n",
       "    }\n",
       "\n",
       "    .dataframe tbody tr th {\n",
       "        vertical-align: top;\n",
       "    }\n",
       "\n",
       "    .dataframe thead th {\n",
       "        text-align: right;\n",
       "    }\n",
       "</style>\n",
       "<table border=\"1\" class=\"dataframe\">\n",
       "  <thead>\n",
       "    <tr style=\"text-align: right;\">\n",
       "      <th></th>\n",
       "      <th>Store</th>\n",
       "      <th>DayOfWeek</th>\n",
       "      <th>Date</th>\n",
       "      <th>Sales</th>\n",
       "      <th>Promo</th>\n",
       "      <th>StateHoliday</th>\n",
       "      <th>SchoolHoliday</th>\n",
       "      <th>StoreType</th>\n",
       "      <th>Assortment</th>\n",
       "      <th>CompetitionDistance</th>\n",
       "      <th>Promo2</th>\n",
       "      <th>Month</th>\n",
       "    </tr>\n",
       "  </thead>\n",
       "  <tbody>\n",
       "    <tr>\n",
       "      <th>0</th>\n",
       "      <td>1</td>\n",
       "      <td>5</td>\n",
       "      <td>2015-07-31</td>\n",
       "      <td>5263</td>\n",
       "      <td>1</td>\n",
       "      <td>0</td>\n",
       "      <td>1</td>\n",
       "      <td>c</td>\n",
       "      <td>a</td>\n",
       "      <td>1270.0</td>\n",
       "      <td>0</td>\n",
       "      <td>7</td>\n",
       "    </tr>\n",
       "    <tr>\n",
       "      <th>1</th>\n",
       "      <td>2</td>\n",
       "      <td>5</td>\n",
       "      <td>2015-07-31</td>\n",
       "      <td>6064</td>\n",
       "      <td>1</td>\n",
       "      <td>0</td>\n",
       "      <td>1</td>\n",
       "      <td>a</td>\n",
       "      <td>a</td>\n",
       "      <td>570.0</td>\n",
       "      <td>1</td>\n",
       "      <td>7</td>\n",
       "    </tr>\n",
       "    <tr>\n",
       "      <th>2</th>\n",
       "      <td>3</td>\n",
       "      <td>5</td>\n",
       "      <td>2015-07-31</td>\n",
       "      <td>8314</td>\n",
       "      <td>1</td>\n",
       "      <td>0</td>\n",
       "      <td>1</td>\n",
       "      <td>a</td>\n",
       "      <td>a</td>\n",
       "      <td>14130.0</td>\n",
       "      <td>1</td>\n",
       "      <td>7</td>\n",
       "    </tr>\n",
       "    <tr>\n",
       "      <th>3</th>\n",
       "      <td>4</td>\n",
       "      <td>5</td>\n",
       "      <td>2015-07-31</td>\n",
       "      <td>13995</td>\n",
       "      <td>1</td>\n",
       "      <td>0</td>\n",
       "      <td>1</td>\n",
       "      <td>c</td>\n",
       "      <td>c</td>\n",
       "      <td>620.0</td>\n",
       "      <td>0</td>\n",
       "      <td>7</td>\n",
       "    </tr>\n",
       "    <tr>\n",
       "      <th>4</th>\n",
       "      <td>5</td>\n",
       "      <td>5</td>\n",
       "      <td>2015-07-31</td>\n",
       "      <td>4822</td>\n",
       "      <td>1</td>\n",
       "      <td>0</td>\n",
       "      <td>1</td>\n",
       "      <td>a</td>\n",
       "      <td>a</td>\n",
       "      <td>29910.0</td>\n",
       "      <td>0</td>\n",
       "      <td>7</td>\n",
       "    </tr>\n",
       "  </tbody>\n",
       "</table>\n",
       "</div>"
      ],
      "text/plain": [
       "   Store  DayOfWeek       Date  Sales  Promo StateHoliday  SchoolHoliday  \\\n",
       "0      1          5 2015-07-31   5263      1            0              1   \n",
       "1      2          5 2015-07-31   6064      1            0              1   \n",
       "2      3          5 2015-07-31   8314      1            0              1   \n",
       "3      4          5 2015-07-31  13995      1            0              1   \n",
       "4      5          5 2015-07-31   4822      1            0              1   \n",
       "\n",
       "  StoreType Assortment  CompetitionDistance  Promo2  Month  \n",
       "0         c          a               1270.0       0      7  \n",
       "1         a          a                570.0       1      7  \n",
       "2         a          a              14130.0       1      7  \n",
       "3         c          c                620.0       0      7  \n",
       "4         a          a              29910.0       0      7  "
      ]
     },
     "execution_count": 2,
     "metadata": {},
     "output_type": "execute_result"
    }
   ],
   "source": [
    "# Load data\n",
    "data = pd.read_csv('./data/train.csv', parse_dates=['Date'])\n",
    "store_features = pd.read_csv('./data/store.csv')\n",
    "\n",
    "# Drop noisy data and leave only main features + add Month\n",
    "data = data.loc[data.Open.eq(1) & ~data.Customers.eq(0) & ~data.Sales.eq(0)].drop(columns=['Customers', 'Open'])\n",
    "store_features = store_features[['Store', 'StoreType', 'Assortment', 'CompetitionDistance', 'Promo2']]\n",
    "data = data.merge(store_features, how='left').dropna()\n",
    "data['Month'] = data.Date.dt.month\n",
    "\n",
    "data.head(5)"
   ]
  },
  {
   "cell_type": "code",
   "execution_count": 3,
   "metadata": {},
   "outputs": [],
   "source": [
    "target = 'Sales'\n",
    "\n",
    "numeric_cols = [\n",
    "    'Sales',\n",
    "    'CompetitionDistance'\n",
    "]\n",
    "\n",
    "categorical_cols = [\n",
    "    'Store',\n",
    "    'DayOfWeek',\n",
    "    'Promo',\n",
    "    'StateHoliday',\n",
    "    'SchoolHoliday',\n",
    "    'StoreType',\n",
    "    'Assortment',\n",
    "    'Promo2',\n",
    "    'Month'\n",
    "]\n",
    "\n",
    "# Dimensions for categorical embeddings\n",
    "cat_emb_dims = [64, 4, 1, 2, 1, 2, 2, 1, 4]\n",
    "\n",
    "data[numeric_cols] = data[numeric_cols].astype(np.float64)\n",
    "data[categorical_cols] = data[categorical_cols].astype('str')"
   ]
  },
  {
   "cell_type": "code",
   "execution_count": 4,
   "metadata": {},
   "outputs": [
    {
     "name": "stdout",
     "output_type": "stream",
     "text": [
      "Train: 572663\n",
      "Validation: 143166\n",
      "Test: 126323\n"
     ]
    },
    {
     "data": {
      "text/html": [
       "<div>\n",
       "<style scoped>\n",
       "    .dataframe tbody tr th:only-of-type {\n",
       "        vertical-align: middle;\n",
       "    }\n",
       "\n",
       "    .dataframe tbody tr th {\n",
       "        vertical-align: top;\n",
       "    }\n",
       "\n",
       "    .dataframe thead th {\n",
       "        text-align: right;\n",
       "    }\n",
       "</style>\n",
       "<table border=\"1\" class=\"dataframe\">\n",
       "  <thead>\n",
       "    <tr style=\"text-align: right;\">\n",
       "      <th></th>\n",
       "      <th>Store</th>\n",
       "      <th>DayOfWeek</th>\n",
       "      <th>Promo</th>\n",
       "      <th>StateHoliday</th>\n",
       "      <th>SchoolHoliday</th>\n",
       "      <th>StoreType</th>\n",
       "      <th>Assortment</th>\n",
       "      <th>CompetitionDistance</th>\n",
       "      <th>Promo2</th>\n",
       "      <th>Month</th>\n",
       "    </tr>\n",
       "  </thead>\n",
       "  <tbody>\n",
       "    <tr>\n",
       "      <th>844337</th>\n",
       "      <td>109</td>\n",
       "      <td>1</td>\n",
       "      <td>0</td>\n",
       "      <td>1</td>\n",
       "      <td>1</td>\n",
       "      <td>1</td>\n",
       "      <td>1</td>\n",
       "      <td>720.0</td>\n",
       "      <td>0</td>\n",
       "      <td>0</td>\n",
       "    </tr>\n",
       "    <tr>\n",
       "      <th>844321</th>\n",
       "      <td>947</td>\n",
       "      <td>1</td>\n",
       "      <td>0</td>\n",
       "      <td>1</td>\n",
       "      <td>1</td>\n",
       "      <td>1</td>\n",
       "      <td>0</td>\n",
       "      <td>1870.0</td>\n",
       "      <td>0</td>\n",
       "      <td>0</td>\n",
       "    </tr>\n",
       "    <tr>\n",
       "      <th>844322</th>\n",
       "      <td>293</td>\n",
       "      <td>1</td>\n",
       "      <td>0</td>\n",
       "      <td>1</td>\n",
       "      <td>1</td>\n",
       "      <td>1</td>\n",
       "      <td>1</td>\n",
       "      <td>210.0</td>\n",
       "      <td>0</td>\n",
       "      <td>0</td>\n",
       "    </tr>\n",
       "    <tr>\n",
       "      <th>844323</th>\n",
       "      <td>297</td>\n",
       "      <td>1</td>\n",
       "      <td>0</td>\n",
       "      <td>1</td>\n",
       "      <td>1</td>\n",
       "      <td>1</td>\n",
       "      <td>0</td>\n",
       "      <td>1180.0</td>\n",
       "      <td>0</td>\n",
       "      <td>0</td>\n",
       "    </tr>\n",
       "    <tr>\n",
       "      <th>844324</th>\n",
       "      <td>310</td>\n",
       "      <td>1</td>\n",
       "      <td>0</td>\n",
       "      <td>1</td>\n",
       "      <td>1</td>\n",
       "      <td>1</td>\n",
       "      <td>1</td>\n",
       "      <td>3640.0</td>\n",
       "      <td>1</td>\n",
       "      <td>0</td>\n",
       "    </tr>\n",
       "  </tbody>\n",
       "</table>\n",
       "</div>"
      ],
      "text/plain": [
       "        Store  DayOfWeek  Promo  StateHoliday  SchoolHoliday  StoreType  \\\n",
       "844337    109          1      0             1              1          1   \n",
       "844321    947          1      0             1              1          1   \n",
       "844322    293          1      0             1              1          1   \n",
       "844323    297          1      0             1              1          1   \n",
       "844324    310          1      0             1              1          1   \n",
       "\n",
       "        Assortment  CompetitionDistance  Promo2  Month  \n",
       "844337           1                720.0       0      0  \n",
       "844321           0               1870.0       0      0  \n",
       "844322           1                210.0       0      0  \n",
       "844323           0               1180.0       0      0  \n",
       "844324           1               3640.0       1      0  "
      ]
     },
     "execution_count": 4,
     "metadata": {},
     "output_type": "execute_result"
    }
   ],
   "source": [
    "# Label encode categorical columns\n",
    "label_encoders = defaultdict(LabelEncoder)\n",
    "\n",
    "data[categorical_cols] = data[categorical_cols].apply(\n",
    "    lambda x: label_encoders[x.name].fit_transform(x)\n",
    ")\n",
    "\n",
    "data = data.sort_values('Date')\n",
    "\n",
    "# Train / validation / test splits\n",
    "X_train, X_test, y_train, y_test = train_test_split(\n",
    "    data.drop(columns=['Date', 'Sales']),\n",
    "    data[target],\n",
    "    test_size=0.15,\n",
    "    shuffle = False\n",
    ")\n",
    "\n",
    "X_train, X_valid, y_train, y_valid = train_test_split(\n",
    "    X_train,\n",
    "    y_train,\n",
    "    test_size=0.2,\n",
    "    shuffle = False\n",
    ")\n",
    "\n",
    "print(f'Train: {len(X_train)}')\n",
    "print(f'Validation: {len(X_valid)}')\n",
    "print(f'Test: {len(X_test)}')\n",
    "\n",
    "X_train.head(5)"
   ]
  },
  {
   "cell_type": "code",
   "execution_count": 5,
   "metadata": {},
   "outputs": [
    {
     "name": "stdout",
     "output_type": "stream",
     "text": [
      "Indexes of cat columns:\n",
      "[0, 1, 2, 3, 4, 5, 6, 8, 9]\n",
      "Dimensions of cat columns:\n",
      "[1112, 7, 2, 4, 2, 4, 3, 2, 12]\n",
      "Embedding sizes of cat columns:\n",
      "[64, 4, 1, 2, 1, 2, 2, 1, 4]\n"
     ]
    }
   ],
   "source": [
    "# Indexes of categorical columns (for embeddings)\n",
    "cat_idxs = [X_train.columns.get_loc(col) for col in categorical_cols]\n",
    "\n",
    "# Max capacity of categorical columns (for embeddings)\n",
    "cat_dims = [X_train[col].nunique() for col in categorical_cols]\n",
    "print('Indexes of cat columns:', cat_idxs, sep='\\n')\n",
    "print('Dimensions of cat columns:', cat_dims, sep='\\n')\n",
    "print('Embedding sizes of cat columns:', cat_emb_dims, sep='\\n')"
   ]
  },
  {
   "cell_type": "code",
   "execution_count": 6,
   "metadata": {},
   "outputs": [],
   "source": [
    "# Tabnet requires values matrix over pandas DataFrame\n",
    "X_train = X_train.values\n",
    "X_valid = X_valid.values\n",
    "X_test = X_test.values\n",
    "\n",
    "# Same, unsqueezed vector values over pandas Series\n",
    "y_train = y_train.values.reshape(-1, 1)\n",
    "y_valid = y_valid.values.reshape(-1, 1)\n",
    "y_test = y_test.values.reshape(-1, 1)"
   ]
  },
  {
   "cell_type": "code",
   "execution_count": 7,
   "metadata": {
    "scrolled": true
   },
   "outputs": [
    {
     "name": "stdout",
     "output_type": "stream",
     "text": [
      "Device used : cpu\n",
      "epoch 0  | loss: 344439.86457| val_0_unsup_loss: 0.99621 |  0:01:12s\n",
      "epoch 1  | loss: 8093.61135| val_0_unsup_loss: 0.86785 |  0:02:27s\n",
      "epoch 2  | loss: 6859.60267| val_0_unsup_loss: 0.19257 |  0:03:45s\n",
      "epoch 3  | loss: 5166.9397| val_0_unsup_loss: 0.15843 |  0:05:01s\n",
      "epoch 4  | loss: 2812.73338| val_0_unsup_loss: 0.13994 |  0:06:19s\n",
      "epoch 5  | loss: 1538.79047| val_0_unsup_loss: 0.19635 |  0:07:35s\n",
      "epoch 6  | loss: 1191.73249| val_0_unsup_loss: 0.13472 |  0:08:52s\n",
      "epoch 7  | loss: 874.21259| val_0_unsup_loss: 8.52884 |  0:10:09s\n",
      "epoch 8  | loss: 895.66105| val_0_unsup_loss: 0.13746 |  0:11:26s\n",
      "epoch 9  | loss: 1097.98262| val_0_unsup_loss: 2.55583 |  0:12:43s\n",
      "epoch 10 | loss: 1323.32852| val_0_unsup_loss: 2.98776 |  0:13:59s\n",
      "epoch 11 | loss: 1075.54417| val_0_unsup_loss: 6.22098 |  0:15:12s\n",
      "\n",
      "Early stopping occurred at epoch 11 with best_epoch = 6 and best_val_0_unsup_loss = 0.13472\n",
      "Best weights from best epoch are automatically used!\n"
     ]
    }
   ],
   "source": [
    "pretrain_model = TabNetPretrainer(\n",
    "    cat_idxs = cat_idxs,\n",
    "    cat_dims = cat_dims,\n",
    "    cat_emb_dim = cat_emb_dims,\n",
    "    optimizer_fn = torch.optim.Adam,\n",
    "    mask_type = 'sparsemax' # 'entmax'\n",
    ")\n",
    "\n",
    "pretrain_model.fit(\n",
    "    X_train = X_train,\n",
    "    eval_set = [X_valid],\n",
    "    max_epochs = 100,\n",
    "    patience = 5,\n",
    "    batch_size = 512,\n",
    "    virtual_batch_size = 64,\n",
    "    pretraining_ratio = 0.8,\n",
    ")"
   ]
  },
  {
   "cell_type": "code",
   "execution_count": 8,
   "metadata": {},
   "outputs": [],
   "source": [
    "class WAPE(Metric):\n",
    "    def __init__(self):\n",
    "        self._name = 'wape'\n",
    "        self._maximize = False\n",
    "\n",
    "    def __call__(self, Y, Yhat):\n",
    "        return np.sum(np.absolute(Y - Yhat)) / np.sum(np.absolute(Y))"
   ]
  },
  {
   "cell_type": "code",
   "execution_count": 9,
   "metadata": {},
   "outputs": [
    {
     "name": "stdout",
     "output_type": "stream",
     "text": [
      "Device used : cpu\n",
      "Loading weights from unsupervised pretraining\n",
      "epoch 0  | loss: 5028.92899| val_0_wape: 0.26345 | val_0_mae: 1906.81133|  0:00:41s\n",
      "epoch 1  | loss: 1215.71466| val_0_wape: 0.15649 | val_0_mae: 1132.67948|  0:01:24s\n",
      "epoch 2  | loss: 933.71007| val_0_wape: 0.14608 | val_0_mae: 1057.34693|  0:02:08s\n",
      "epoch 3  | loss: 828.39221| val_0_wape: 0.12404 | val_0_mae: 897.7788|  0:02:52s\n",
      "epoch 4  | loss: 772.90857| val_0_wape: 0.13086 | val_0_mae: 947.18845|  0:03:35s\n",
      "epoch 5  | loss: 751.03718| val_0_wape: 0.11918 | val_0_mae: 862.62905|  0:04:19s\n",
      "epoch 6  | loss: 738.76158| val_0_wape: 0.11986 | val_0_mae: 867.5717|  0:05:03s\n",
      "epoch 7  | loss: 725.81149| val_0_wape: 0.12167 | val_0_mae: 880.65009|  0:05:47s\n",
      "epoch 8  | loss: 717.61928| val_0_wape: 0.12338 | val_0_mae: 893.01834|  0:06:31s\n",
      "epoch 9  | loss: 709.75835| val_0_wape: 0.11762 | val_0_mae: 851.3475|  0:07:15s\n",
      "epoch 10 | loss: 702.60898| val_0_wape: 0.11859 | val_0_mae: 858.37978|  0:08:00s\n",
      "epoch 11 | loss: 699.67021| val_0_wape: 0.12338 | val_0_mae: 893.03781|  0:08:44s\n",
      "epoch 12 | loss: 693.4762| val_0_wape: 0.12041 | val_0_mae: 871.54588|  0:09:30s\n",
      "epoch 13 | loss: 687.25195| val_0_wape: 0.11656 | val_0_mae: 843.68183|  0:10:15s\n",
      "epoch 14 | loss: 684.6778| val_0_wape: 0.11803 | val_0_mae: 854.26539|  0:11:01s\n",
      "epoch 15 | loss: 682.496 | val_0_wape: 0.12074 | val_0_mae: 873.89772|  0:11:50s\n",
      "epoch 16 | loss: 676.63909| val_0_wape: 0.11763 | val_0_mae: 851.40382|  0:12:40s\n",
      "epoch 17 | loss: 674.71303| val_0_wape: 0.11723 | val_0_mae: 848.51  |  0:13:28s\n",
      "epoch 18 | loss: 670.97729| val_0_wape: 0.11709 | val_0_mae: 847.49817|  0:14:14s\n",
      "\n",
      "Early stopping occurred at epoch 18 with best_epoch = 13 and best_val_0_mae = 843.68183\n",
      "Best weights from best epoch are automatically used!\n"
     ]
    }
   ],
   "source": [
    "tabnet_regressor = TabNetRegressor(\n",
    "    cat_idxs = cat_idxs,\n",
    "    cat_dims = cat_dims,\n",
    "    cat_emb_dim = cat_emb_dims,\n",
    "    n_a = 8,\n",
    "    n_d = 8,\n",
    "    n_steps=3\n",
    ")\n",
    "\n",
    "tabnet_regressor.fit(\n",
    "    X_train,\n",
    "    y_train,\n",
    "    eval_set = [(X_valid, y_valid)],\n",
    "    eval_metric = [WAPE, 'mae'],\n",
    "    loss_fn = torch.nn.HuberLoss(),\n",
    "    max_epochs = 100,\n",
    "    patience = 5, \n",
    "    batch_size = 1024,\n",
    "    virtual_batch_size = 128,\n",
    "    from_unsupervised = pretrain_model\n",
    ")"
   ]
  },
  {
   "cell_type": "code",
   "execution_count": 10,
   "metadata": {
    "scrolled": true
   },
   "outputs": [
    {
     "name": "stdout",
     "output_type": "stream",
     "text": [
      "----- Train metrics -----\n",
      "WAPE: 0.09500332830073586\n",
      "MAE: 648.7146572457608\n",
      "----- Valid metrics -----\n",
      "WAPE: 0.11656316065414221\n",
      "MAE: 843.681834768007\n",
      "----- Test metrics -----\n",
      "WAPE: 0.11440086432597694\n",
      "MAE: 828.307698200179\n"
     ]
    }
   ],
   "source": [
    "wape = WAPE()\n",
    "\n",
    "Yhat_train = tabnet_regressor.predict(X_train)\n",
    "Yhat_valid = tabnet_regressor.predict(X_valid)\n",
    "Yhat_test = tabnet_regressor.predict(X_test)\n",
    "\n",
    "print(f\"\"\"----- Train metrics -----\n",
    "WAPE: {wape(y_train, Yhat_train)}\n",
    "MAE: {mae(y_train, Yhat_train)}\"\"\")\n",
    "\n",
    "print(f\"\"\"----- Valid metrics -----\n",
    "WAPE: {wape(y_valid, Yhat_valid)}\n",
    "MAE: {mae(y_valid, Yhat_valid)}\"\"\")\n",
    "\n",
    "print(f\"\"\"----- Test metrics -----\n",
    "WAPE: {wape(y_test, Yhat_test)}\n",
    "MAE: {mae(y_test, Yhat_test)}\"\"\")"
   ]
  },
  {
   "cell_type": "code",
   "execution_count": 12,
   "metadata": {},
   "outputs": [
    {
     "data": {
      "text/plain": [
       "[<matplotlib.lines.Line2D at 0x15ff49d30>]"
      ]
     },
     "execution_count": 12,
     "metadata": {},
     "output_type": "execute_result"
    },
    {
     "data": {
      "image/png": "[encoded data removed]",
      "text/plain": [
       "<Figure size 432x288 with 1 Axes>"
      ]
     },
     "metadata": {
      "needs_background": "light"
     },
     "output_type": "display_data"
    }
   ],
   "source": [
    "plt.plot(pretrain_model.history['loss'])\n",
    "plt.plot(pretrain_model.history['val_0_unsup_loss'])"
   ]
  },
  {
   "cell_type": "code",
   "execution_count": 13,
   "metadata": {},
   "outputs": [
    {
     "name": "stdout",
     "output_type": "stream",
     "text": [
      "Successfully saved model at ./pretrain_model.zip\n",
      "Successfully saved model at ./tabnet_regressor_huber.zip\n"
     ]
    },
    {
     "data": {
      "text/plain": [
       "'./tabnet_regressor_huber.zip'"
      ]
     },
     "execution_count": 13,
     "metadata": {},
     "output_type": "execute_result"
    }
   ],
   "source": [
    "pretrain_model.save_model('./pretrain_model')  # load_model('./pretrain_model.zip')\n",
    "tabnet_regressor.save_model('./tabnet_regressor_huber')  # load_model('./tabnet_regressor_huber.zip')"
   ]
  },
  {
   "cell_type": "code",
   "execution_count": 14,
   "metadata": {},
   "outputs": [
    {
     "data": {
      "image/png": "[encoded data removed]",
      "text/plain": [
       "<Figure size 1440x1440 with 3 Axes>"
      ]
     },
     "metadata": {
      "needs_background": "light"
     },
     "output_type": "display_data"
    }
   ],
   "source": [
    "explain_matrix, masks = tabnet_regressor.explain(X_test)\n",
    "fig, axs = plt.subplots(1, 3, figsize=(20,20))\n",
    "\n",
    "for i in range(3):\n",
    "    axs[i].imshow(masks[i][:50])\n",
    "    axs[i].set_title(f\"mask {i}\")"
   ]
  },
  {
   "cell_type": "markdown",
   "metadata": {},
   "source": [
    "## Visualizing store embeddings"
   ]
  },
  {
   "cell_type": "code",
   "execution_count": 15,
   "metadata": {},
   "outputs": [
    {
     "data": {
      "text/plain": [
       "<matplotlib.collections.PathCollection at 0x16bac5910>"
      ]
     },
     "execution_count": 15,
     "metadata": {},
     "output_type": "execute_result"
    },
    {
     "data": {
      "image/png": "[encoded data removed]",
      "text/plain": [
       "<Figure size 432x288 with 1 Axes>"
      ]
     },
     "metadata": {
      "needs_background": "light"
     },
     "output_type": "display_data"
    }
   ],
   "source": [
    "embeddings = \\\n",
    "(\n",
    "    tabnet_regressor\n",
    "    .network\n",
    "    .embedder\n",
    "    .embeddings[0](torch.arange(0, data.Store.nunique(), dtype=torch.int32))\n",
    "    .detach()\n",
    ")\n",
    "\n",
    "tsne = TSNE(n_components=2, verbose=0, perplexity=4, init='pca')\n",
    "scat = tsne.fit_transform(embeddings)\n",
    "plt.figure(1)\n",
    "plt.scatter(scat[:, 0], scat[:, 1])"
   ]
  },
  {
   "cell_type": "code",
   "execution_count": null,
   "metadata": {},
   "outputs": [],
   "source": []
  }
 ],
 "metadata": {
  "kernelspec": {
   "display_name": "Python 3 (ipykernel)",
   "language": "python",
   "name": "python3"
  },
  "language_info": {
   "codemirror_mode": {
    "name": "ipython",
    "version": 3
   },
   "file_extension": ".py",
   "mimetype": "text/x-python",
   "name": "python",
   "nbconvert_exporter": "python",
   "pygments_lexer": "ipython3",
   "version": "3.9.7"
  },
  "toc": {
   "base_numbering": 1,
   "nav_menu": {},
   "number_sections": true,
   "sideBar": true,
   "skip_h1_title": false,
   "title_cell": "Table of Contents",
   "title_sidebar": "Contents",
   "toc_cell": false,
   "toc_position": {},
   "toc_section_display": true,
   "toc_window_display": false
  }
 },
 "nbformat": 4,
 "nbformat_minor": 2
}
